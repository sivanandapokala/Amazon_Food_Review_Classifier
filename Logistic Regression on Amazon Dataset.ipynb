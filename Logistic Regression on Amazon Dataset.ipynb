{
 "cells": [
  {
   "cell_type": "code",
   "execution_count": 1,
   "metadata": {},
   "outputs": [
    {
     "name": "stdout",
     "output_type": "stream",
     "text": [
      "(254919, 1967430)\n"
     ]
    }
   ],
   "source": [
    "import sqlite3\n",
    "import pandas as pd\n",
    "import numpy as np\n",
    "import nltk\n",
    "from sklearn.model_selection import train_test_split\n",
    "con = sqlite3.connect(\"D:/Data_Practice/Data_Amzn/final.sqlite\")\n",
    "\n",
    "processed_data = pd.read_sql_query('''SELECT * FROM Reviews''',con)\n",
    "processed_data.shape\n",
    "processed_data.head()\n",
    "\n",
    "final_pos = processed_data[processed_data.Score=='Positive']\n",
    "final_pos.shape\n",
    "\n",
    "final_neg = processed_data[processed_data.Score=='Negative']\n",
    "final_neg.shape\n",
    "\n",
    "#final_pos_5000 = final_pos[0:5000]\n",
    "#final_pos_5000.shape\n",
    "#print(final_pos_5000.head(5))\n",
    "\n",
    "#final_neg_5000 = final_neg[0:5000]\n",
    "#final_neg_5000.shape\n",
    "#print(final_neg_5000.head(5))\n",
    "\n",
    "final = pd.concat([final_pos , final_neg],axis=0,ignore_index=True)\n",
    "final.tail()\n",
    "\n",
    "sample = final.sort_values(by='Time')\n",
    "score = sample['Score']\n",
    "sample.head()\n",
    "sample['Score'].value_counts()\n",
    "\n",
    "sample_tr,sample_test,sample_try,sample_testy = train_test_split(sample,score,test_size=0.3,random_state=10)\n",
    "\n",
    "from sklearn.feature_extraction.text import CountVectorizer\n",
    "count_vect = CountVectorizer(ngram_range=(1,2))\n",
    "final_bow = count_vect.fit_transform(sample_tr['Cleaned_Text'].values)\n",
    "print(final_bow.shape)\n",
    "#Standardization\n",
    "#from sklearn.preprocessing import StandardScaler\n",
    "#scaler = StandardScaler()\n",
    "#std_data = scaler.fit_transform(final_bow.todense())"
   ]
  },
  {
   "cell_type": "code",
   "execution_count": 28,
   "metadata": {},
   "outputs": [
    {
     "data": {
      "text/plain": [
       "'We have bought most of the flavors in these treats and use them to help train her or just when she needs a little treat. She loves all the flavors so far and they are not crumbly or messy like some other small treats. Will keep purchasing these.'"
      ]
     },
     "execution_count": 28,
     "metadata": {},
     "output_type": "execute_result"
    }
   ],
   "source": [
    "final['Text'][138692]"
   ]
  },
  {
   "cell_type": "code",
   "execution_count": 10,
   "metadata": {},
   "outputs": [
    {
     "data": {
      "text/plain": [
       "b'have bought most the flavor these treat and use them help train her just when she need littl treat she love all the flavor far and they are not crumbl messi like some other small treat will keep purchas these'"
      ]
     },
     "execution_count": 10,
     "metadata": {},
     "output_type": "execute_result"
    }
   ],
   "source": [
    "final['Cleaned_Text'][138692]"
   ]
  },
  {
   "cell_type": "code",
   "execution_count": 2,
   "metadata": {},
   "outputs": [
    {
     "data": {
      "text/plain": [
       "(254919, 1967430)"
      ]
     },
     "execution_count": 2,
     "metadata": {},
     "output_type": "execute_result"
    }
   ],
   "source": [
    "final_bow.shape"
   ]
  },
  {
   "cell_type": "code",
   "execution_count": 5,
   "metadata": {},
   "outputs": [],
   "source": [
    "x_test=count_vect.transform(sample_test['Cleaned_Text'].values)"
   ]
  },
  {
   "cell_type": "code",
   "execution_count": 30,
   "metadata": {},
   "outputs": [
    {
     "data": {
      "text/plain": [
       "scipy.sparse.csr.csr_matrix"
      ]
     },
     "execution_count": 30,
     "metadata": {},
     "output_type": "execute_result"
    }
   ],
   "source": [
    "type(x_test)"
   ]
  },
  {
   "cell_type": "code",
   "execution_count": 69,
   "metadata": {},
   "outputs": [
    {
     "data": {
      "text/plain": [
       "(3000, 12151)"
      ]
     },
     "execution_count": 69,
     "metadata": {},
     "output_type": "execute_result"
    }
   ],
   "source": [
    "scaler = StandardScaler()\n",
    "std_data_test = scaler.fit_transform(x_test.todense())\n",
    "std_data_test.shape"
   ]
  },
  {
   "cell_type": "code",
   "execution_count": 31,
   "metadata": {},
   "outputs": [
    {
     "data": {
      "text/plain": [
       "Positive    214945\n",
       "Negative     39974\n",
       "Name: Score, dtype: int64"
      ]
     },
     "execution_count": 31,
     "metadata": {},
     "output_type": "execute_result"
    }
   ],
   "source": [
    "sample_tr['Score'].value_counts()"
   ]
  },
  {
   "cell_type": "code",
   "execution_count": 32,
   "metadata": {},
   "outputs": [
    {
     "data": {
      "text/plain": [
       "Positive    92116\n",
       "Negative    17136\n",
       "Name: Score, dtype: int64"
      ]
     },
     "execution_count": 32,
     "metadata": {},
     "output_type": "execute_result"
    }
   ],
   "source": [
    "sample_test['Score'].value_counts()"
   ]
  },
  {
   "cell_type": "code",
   "execution_count": 5,
   "metadata": {
    "collapsed": true
   },
   "outputs": [
    {
     "ename": "ValueError",
     "evalue": "'n_components' should be inferior to 4 for the barnes_hut algorithm as it relies on quad-tree or oct-tree.",
     "output_type": "error",
     "traceback": [
      "\u001b[1;31m---------------------------------------------------------------------------\u001b[0m",
      "\u001b[1;31mValueError\u001b[0m                                Traceback (most recent call last)",
      "\u001b[1;32m<ipython-input-5-cf763250a359>\u001b[0m in \u001b[0;36m<module>\u001b[1;34m\u001b[0m\n\u001b[0;32m      2\u001b[0m \u001b[1;32mfrom\u001b[0m \u001b[0msklearn\u001b[0m\u001b[1;33m.\u001b[0m\u001b[0mmanifold\u001b[0m \u001b[1;32mimport\u001b[0m \u001b[0mTSNE\u001b[0m\u001b[1;33m\u001b[0m\u001b[1;33m\u001b[0m\u001b[0m\n\u001b[0;32m      3\u001b[0m \u001b[0mmodel\u001b[0m \u001b[1;33m=\u001b[0m \u001b[0mTSNE\u001b[0m\u001b[1;33m(\u001b[0m\u001b[0mn_components\u001b[0m\u001b[1;33m=\u001b[0m\u001b[1;36m50\u001b[0m\u001b[1;33m,\u001b[0m\u001b[0mrandom_state\u001b[0m\u001b[1;33m=\u001b[0m\u001b[1;36m0\u001b[0m\u001b[1;33m)\u001b[0m\u001b[1;33m\u001b[0m\u001b[1;33m\u001b[0m\u001b[0m\n\u001b[1;32m----> 4\u001b[1;33m \u001b[0mtsne_data\u001b[0m \u001b[1;33m=\u001b[0m \u001b[0mmodel\u001b[0m\u001b[1;33m.\u001b[0m\u001b[0mfit_transform\u001b[0m\u001b[1;33m(\u001b[0m\u001b[0mfinal_dense\u001b[0m\u001b[1;33m)\u001b[0m\u001b[1;33m\u001b[0m\u001b[1;33m\u001b[0m\u001b[0m\n\u001b[0m\u001b[0;32m      5\u001b[0m \u001b[0mtsne_data\u001b[0m\u001b[1;33m.\u001b[0m\u001b[0mshape\u001b[0m\u001b[1;33m\u001b[0m\u001b[1;33m\u001b[0m\u001b[0m\n",
      "\u001b[1;32mC:\\ProgramData\\Anaconda3\\lib\\site-packages\\sklearn\\manifold\\_t_sne.py\u001b[0m in \u001b[0;36mfit_transform\u001b[1;34m(self, X, y)\u001b[0m\n\u001b[0;32m    884\u001b[0m             \u001b[0mEmbedding\u001b[0m \u001b[0mof\u001b[0m \u001b[0mthe\u001b[0m \u001b[0mtraining\u001b[0m \u001b[0mdata\u001b[0m \u001b[1;32min\u001b[0m \u001b[0mlow\u001b[0m\u001b[1;33m-\u001b[0m\u001b[0mdimensional\u001b[0m \u001b[0mspace\u001b[0m\u001b[1;33m.\u001b[0m\u001b[1;33m\u001b[0m\u001b[1;33m\u001b[0m\u001b[0m\n\u001b[0;32m    885\u001b[0m         \"\"\"\n\u001b[1;32m--> 886\u001b[1;33m         \u001b[0membedding\u001b[0m \u001b[1;33m=\u001b[0m \u001b[0mself\u001b[0m\u001b[1;33m.\u001b[0m\u001b[0m_fit\u001b[0m\u001b[1;33m(\u001b[0m\u001b[0mX\u001b[0m\u001b[1;33m)\u001b[0m\u001b[1;33m\u001b[0m\u001b[1;33m\u001b[0m\u001b[0m\n\u001b[0m\u001b[0;32m    887\u001b[0m         \u001b[0mself\u001b[0m\u001b[1;33m.\u001b[0m\u001b[0membedding_\u001b[0m \u001b[1;33m=\u001b[0m \u001b[0membedding\u001b[0m\u001b[1;33m\u001b[0m\u001b[1;33m\u001b[0m\u001b[0m\n\u001b[0;32m    888\u001b[0m         \u001b[1;32mreturn\u001b[0m \u001b[0mself\u001b[0m\u001b[1;33m.\u001b[0m\u001b[0membedding_\u001b[0m\u001b[1;33m\u001b[0m\u001b[1;33m\u001b[0m\u001b[0m\n",
      "\u001b[1;32mC:\\ProgramData\\Anaconda3\\lib\\site-packages\\sklearn\\manifold\\_t_sne.py\u001b[0m in \u001b[0;36m_fit\u001b[1;34m(self, X, skip_num_points)\u001b[0m\n\u001b[0;32m    685\u001b[0m \u001b[1;33m\u001b[0m\u001b[0m\n\u001b[0;32m    686\u001b[0m         \u001b[1;32mif\u001b[0m \u001b[0mself\u001b[0m\u001b[1;33m.\u001b[0m\u001b[0mmethod\u001b[0m \u001b[1;33m==\u001b[0m \u001b[1;34m'barnes_hut'\u001b[0m \u001b[1;32mand\u001b[0m \u001b[0mself\u001b[0m\u001b[1;33m.\u001b[0m\u001b[0mn_components\u001b[0m \u001b[1;33m>\u001b[0m \u001b[1;36m3\u001b[0m\u001b[1;33m:\u001b[0m\u001b[1;33m\u001b[0m\u001b[1;33m\u001b[0m\u001b[0m\n\u001b[1;32m--> 687\u001b[1;33m             raise ValueError(\"'n_components' should be inferior to 4 for the \"\n\u001b[0m\u001b[0;32m    688\u001b[0m                              \u001b[1;34m\"barnes_hut algorithm as it relies on \"\u001b[0m\u001b[1;33m\u001b[0m\u001b[1;33m\u001b[0m\u001b[0m\n\u001b[0;32m    689\u001b[0m                              \"quad-tree or oct-tree.\")\n",
      "\u001b[1;31mValueError\u001b[0m: 'n_components' should be inferior to 4 for the barnes_hut algorithm as it relies on quad-tree or oct-tree."
     ]
    }
   ],
   "source": [
    "#Dim Red is optional\n",
    "from sklearn.manifold import TSNE\n",
    "model = TSNE(n_components=3,random_state=0)\n",
    "tsne_data = model.fit_transform(final_dense)\n",
    "tsne_data.shape"
   ]
  },
  {
   "cell_type": "code",
   "execution_count": 14,
   "metadata": {},
   "outputs": [
    {
     "data": {
      "text/plain": [
       "(1000,)"
      ]
     },
     "execution_count": 14,
     "metadata": {},
     "output_type": "execute_result"
    }
   ],
   "source": [
    "type(std_data)\n",
    "score_1000.shape"
   ]
  },
  {
   "cell_type": "code",
   "execution_count": 142,
   "metadata": {},
   "outputs": [
    {
     "data": {
      "text/plain": [
       "(7000,)"
      ]
     },
     "execution_count": 142,
     "metadata": {},
     "output_type": "execute_result"
    }
   ],
   "source": [
    "sample_try.shape"
   ]
  },
  {
   "cell_type": "code",
   "execution_count": 18,
   "metadata": {},
   "outputs": [],
   "source": [
    "std_1000 = std_data[0:10000]\n",
    "score_1000 = score_10000[0:9000]"
   ]
  },
  {
   "cell_type": "code",
   "execution_count": 3,
   "metadata": {
    "scrolled": true
   },
   "outputs": [
    {
     "name": "stdout",
     "output_type": "stream",
     "text": [
      "LogisticRegression(C=1)\n",
      "0.9940373216590368\n"
     ]
    }
   ],
   "source": [
    "import warnings\n",
    "warnings.filterwarnings('ignore')\n",
    "\n",
    "from sklearn.model_selection import GridSearchCV\n",
    "from sklearn.datasets import *\n",
    "from sklearn.linear_model import LogisticRegression\n",
    "\n",
    "#data = load_breast cancer() refer: http://scikit-learn.org/stable/modules/\n",
    "\n",
    "tuned_parameters = [{'C': [10**-4, 0.0001,10**-2,0.1,1,5, 10, 100, 10**3]}]\n",
    "\n",
    "\n",
    "#Using GridSearchcv\n",
    "\n",
    "model = GridSearchCV(LogisticRegression(), tuned_parameters, scoring = 'accuracy')\n",
    "\n",
    "model.fit(final_bow, sample_try)\n",
    "\n",
    "print(model.best_estimator_) \n",
    "print (model.score(final_bow, sample_try)) "
   ]
  },
  {
   "cell_type": "code",
   "execution_count": 6,
   "metadata": {},
   "outputs": [
    {
     "name": "stdout",
     "output_type": "stream",
     "text": [
      "94.65822135979204\n"
     ]
    }
   ],
   "source": [
    "from sklearn.metrics import classification_report\n",
    "from sklearn.metrics import roc_auc_score\n",
    "from sklearn.metrics import log_loss\n",
    "from sklearn.metrics import confusion_matrix\n",
    "from sklearn.metrics import accuracy_score\n",
    "LRclf = LogisticRegression(C=1,penalty='l2')\n",
    "LRclf.fit(final_bow,sample_try)\n",
    "\n",
    "pred = LRclf.predict(x_test)\n",
    " \n",
    "acc = accuracy_score(sample_testy,pred)*100\n",
    "print(acc)\n"
   ]
  },
  {
   "cell_type": "code",
   "execution_count": 7,
   "metadata": {},
   "outputs": [
    {
     "data": {
      "text/plain": [
       "array([[13425,  3711],\n",
       "       [ 2125, 89991]], dtype=int64)"
      ]
     },
     "execution_count": 7,
     "metadata": {},
     "output_type": "execute_result"
    }
   ],
   "source": [
    "con = confusion_matrix(sample_testy,pred,)\n",
    "con"
   ]
  },
  {
   "cell_type": "code",
   "execution_count": 25,
   "metadata": {},
   "outputs": [
    {
     "data": {
      "text/plain": [
       "59090"
      ]
     },
     "execution_count": 25,
     "metadata": {},
     "output_type": "execute_result"
    }
   ],
   "source": [
    "ll= count_vect.get_feature_names()\n",
    "len(ll)"
   ]
  },
  {
   "cell_type": "code",
   "execution_count": 8,
   "metadata": {},
   "outputs": [],
   "source": [
    "import pickle as pkl\n",
    "pkl.dump(LRclf,open(\"AmznLR1.pkl\",\"wb\"))"
   ]
  },
  {
   "cell_type": "code",
   "execution_count": 17,
   "metadata": {},
   "outputs": [],
   "source": [
    "import pickle as pkl\n",
    "pkl.dump(LRclf,open(\"AmznLR.pkl\",\"wb\"))"
   ]
  },
  {
   "cell_type": "code",
   "execution_count": 9,
   "metadata": {},
   "outputs": [],
   "source": [
    "import pickle as pkl\n",
    "pkl.dump(count_vect,open(\"BoW1.pkl\",\"wb\"))"
   ]
  },
  {
   "cell_type": "code",
   "execution_count": 18,
   "metadata": {},
   "outputs": [],
   "source": [
    "import pickle as pkl\n",
    "pkl.dump(count_vect,open(\"BoW.pkl\",\"wb\"))"
   ]
  },
  {
   "cell_type": "code",
   "execution_count": 156,
   "metadata": {},
   "outputs": [
    {
     "data": {
      "text/html": [
       "<div>\n",
       "<style scoped>\n",
       "    .dataframe tbody tr th:only-of-type {\n",
       "        vertical-align: middle;\n",
       "    }\n",
       "\n",
       "    .dataframe tbody tr th {\n",
       "        vertical-align: top;\n",
       "    }\n",
       "\n",
       "    .dataframe thead th {\n",
       "        text-align: right;\n",
       "    }\n",
       "</style>\n",
       "<table border=\"1\" class=\"dataframe\">\n",
       "  <thead>\n",
       "    <tr style=\"text-align: right;\">\n",
       "      <th></th>\n",
       "      <th>index</th>\n",
       "      <th>Id</th>\n",
       "      <th>ProductId</th>\n",
       "      <th>UserId</th>\n",
       "      <th>ProfileName</th>\n",
       "      <th>HelpfulnessNumerator</th>\n",
       "      <th>HelpfulnessDenominator</th>\n",
       "      <th>Score</th>\n",
       "      <th>Time</th>\n",
       "      <th>Summary</th>\n",
       "      <th>Text</th>\n",
       "      <th>Cleaned_Text</th>\n",
       "    </tr>\n",
       "  </thead>\n",
       "  <tbody>\n",
       "    <tr>\n",
       "      <th>2892</th>\n",
       "      <td>247287</td>\n",
       "      <td>268122</td>\n",
       "      <td>B0000D9NDG</td>\n",
       "      <td>A1UDKKUEP4Z7CA</td>\n",
       "      <td>K. Wong</td>\n",
       "      <td>1</td>\n",
       "      <td>1</td>\n",
       "      <td>Positive</td>\n",
       "      <td>1186358400</td>\n",
       "      <td>Balsamic Convert</td>\n",
       "      <td>The sweetness is incomparable.  Yes, it's $$$,...</td>\n",
       "      <td>b'sweet incompar yes small amount need bottl w...</td>\n",
       "    </tr>\n",
       "  </tbody>\n",
       "</table>\n",
       "</div>"
      ],
      "text/plain": [
       "       index      Id   ProductId          UserId ProfileName  \\\n",
       "2892  247287  268122  B0000D9NDG  A1UDKKUEP4Z7CA     K. Wong   \n",
       "\n",
       "      HelpfulnessNumerator  HelpfulnessDenominator     Score        Time  \\\n",
       "2892                     1                       1  Positive  1186358400   \n",
       "\n",
       "               Summary                                               Text  \\\n",
       "2892  Balsamic Convert  The sweetness is incomparable.  Yes, it's $$$,...   \n",
       "\n",
       "                                           Cleaned_Text  \n",
       "2892  b'sweet incompar yes small amount need bottl w...  "
      ]
     },
     "execution_count": 156,
     "metadata": {},
     "output_type": "execute_result"
    }
   ],
   "source": [
    "sample_test[50:51]"
   ]
  },
  {
   "cell_type": "code",
   "execution_count": 150,
   "metadata": {
    "collapsed": true
   },
   "outputs": [
    {
     "data": {
      "text/plain": [
       "[b'sweet incompar yes small amount need bottl worth last year',\n",
       " b'put like five drop hot dog hot admit unbear thought great flavor bad actual think crush habanero hotter good stuff look forward tri ghost pepper',\n",
       " b'disappoint receiv brown sand sugar want look like sand decor cupcak beach theme pass lot dark brown sand sugar amazon chose one sinc lighter pictur unfortun arriv realli dark brown',\n",
       " b'one favorit movi excit dvd bought sinc great deal arriv quick great job amazon',\n",
       " b'like size weight fact clear glass see tea keep warm desk aid coffe cup warmer one cup last sever hour strainer work flawless',\n",
       " b'old pomapoo love chew dinosaur safe unabl chew kind bit piec would harm swallow tri nylabon wolf bone abl complet rip piec swallow threw dental dinosaur durabl',\n",
       " b'love hot sauc quit collect saw product austin hot sauc shop appli name tear joy snatch differ sauc bought day first one open say disappoint realli sure tast bad label say purifi water soybean oil jalapeno chili cane sugar wine vinegar fresh tomatillo wasabi rhizom salt lime juic cilantro ginger mustard powder green tea leaf vitamin garlic powder onion powder turmer citric acid sodium eritob could larg amount soybean oil sauc tast dull cloy hope rush wasabi could bare delet flavor brand heat label bad none insid bottl green tea leaf add visual aspect condiment float bit cilantro tast could bottl purchas like regret buy',\n",
       " b'reckon say whole rabbit ought get whole rabbit got head critter neighbor kid sure love playin rabbit head got rabbit head fer makin peac neighbor kid prolli gonna come bust old ridin tractor without tractor even get corner store beer anoth thing even got intestin fer sausag makin easter dinner gonna good varmint sausag thing look like coulda guinea pig chinchilla somethin mean tast pretti damn good hot sauc reckon oughta shot critter next time around scrape one main road sure cheaper least left bone coonhound chaw awhil mavi give four star givin two account head nothin make sausag reckon also familiar rabbit expectin feed three grown men one enough eatin',\n",
       " b'incred price buy fraction cost websit googl charg',\n",
       " b'found dog food research help dog allergi golden dog terribl allergi canida life stage week itch scratch ear infect vomit fur silki happi healthi use food cost calcul dog eat less mani garbag fill brand also offer coupon web site realli expens cat switch felida also high recommend',\n",
       " b'tree arriv ident pictur look perfect perfect size perfect pot packag also perfect box intern reinforc perfect fit frame pot wrap tight hold moistur impress thank',\n",
       " b'must spice collect flavor good use mani way',\n",
       " b'pepper jelli belli far favorit abl find anywher saw immedi scoop expect tast like rememb go fast packag nice seal candi insid well surpris bag held pound worth seem like lot correct known beforehand would bought anoth',\n",
       " b'mushroom receiv absolut flavor like soak cream sauc piec rubber realli disappoint',\n",
       " b'amazon com page item state item count say ship weight say pound pictur show box pig ear order reciev pig ear ship cost almost complet rip fals advertis wors want charg ship return pig ear file complaint bbb protect other amazon com rip like',\n",
       " b'dog realli love treat picki year old previous problem knee sinc give seem feel better',\n",
       " b'product need use flea control definit reduc number flea home super cheap work buy refil buy unit need fair quick bad infest',\n",
       " b'bought larg cube eighti pound retriev play broke half glu halv back togeth play broke half put super epoxi back togeth play broke final drill hole side rivet bracket either half effect seal thing togeth etern long take plastic constitu materi even center tube hard lock anymor done toy manufactur need redesign cube halv halv screw togeth even brand new center lock hard wife get almost broke thumb tri final jamb towel hole stuff finger towel wrench part get cube open one star construct durabl three star concept star',\n",
       " b'normal green tea ginger tea drinker stomach problem acpuncturist suggest ginger tea rather steep fresh ginger tri ginger tea market far away best alway least one cup day',\n",
       " b'tabl scrap canida brand dri wet feed blk lab done excel healthi shinni coat peopl routin comment nice coat look even ask feed sent bag brother notic dog coat healthier look week two high recommend product',\n",
       " b'fed disgust smell clay litter stick litter pan like glue got wet found litter never go back tri corn litter comparison term clump track keep area odor free believ use litter two cat electron litter box work great ever possibl get oversatur stick bottom pan dri cakey consist scoop second clay clump litter cat track litter smell hous constant get whiff there odor speak hous there minim clean better yet natur safe kid environ far complet odor free enough clump power would magic stuff abl cat wast complet make bare notic though electron litter box scoop away almost immedi sure help defin seem enough clump power scoop away electron',\n",
       " b'order got day later much much faster expect well packag fresh order sure',\n",
       " b'scroog joke christma price small made glass tast noth good plain tast noth great say get one quart get two small glass price charg tini amount profit high want someth add tini flavor ahead want holiday cheer dont wast time thing bought amazon biggest loser product sell would send back said open sorri want good christma dont buy entertain famili friend shame rip product',\n",
       " b'introduc sauc father law never use season pizza sinc season spici yet sweet tangi delici yet strong season blend complet replac need season pizza red pepper flake parmesian simpli outstand',\n",
       " b'receiv product discov contain calcium sterat made anim made clear order product',\n",
       " b'nice leav tell product artifici flavor artifici flavor lab creat flavor test lab rat ensur get addict keep eat yet product proud proclaim artifici color preserv mislead somehow natur dupe process food contain artifici flavor wonder mani folk addict junk food contain artifici flavor',\n",
       " b'plant sever month sorri see longer offer brussel amazon sent sever friend amazon order plant love see mine arriv healthi remain healthi month origin order plant receiv two red envelop arriv quit sick order gift return quit pleas one arriv brussel order lucki bamboo amazon brussel also arriv healthi thrive sever month later high recommend compani',\n",
       " b'bought one realli like color like liquid blend realli well',\n",
       " b'yucateco make bangin sauc fair thick stick well food runni sweet got littl bit kick give heat flavor issu tast good mexican food tri pizza egg stapl hot sauc food left disappoint taco hit spot',\n",
       " b'dog love food previous eat iam like becam hard find switch think make coat nicer iam tremend valu brand pricier store',\n",
       " b'love curri powder strong flavor scent touch sweet tri curri powder favorit curri dish come near good definit buy curri lover',\n",
       " b'stori goe adopt cat agenc last summer alway grown dog cat went ahead wander target get bag friski week later kitti name sugar start vomit confus assum wet food feed morn chang chang result took vet ask check said like problem sensit stomach recommend scienc diet bam cat great lost littl bit weight right size vomit anymor food work work well read negat review would say problem uniqu cat cat love brilliant',\n",
       " b'product noth like pictur one purchas shrivel die third size one pictur good purchas',\n",
       " b'way get salsa japan ship fast ahead time muncha thank yous',\n",
       " b'yes chilehead grew pepper jalapeno habanero red savina back also made point sampl lot hot sauc huge collect hot sauc instead liquor behind home bar dave gourmet insan sauc first sauc tri interest sauc use capsaicin extract oil base add lot furi alreadi fieri coars thick mix tabasco habanero pepper hint smoki within tomato base know someth brutal shake bottl wit chang dark red content fieri orang heat sauc creep first begin delv alreadi hot tast textur base extract hit lock onto tongu persist burn wipe smug grin face look nearest glass ice milk think depend upon much consum may feel wick afterburn reliev end gastrointestin tract dave gourmet insan sauc legendari even label worth read realli want test friend wrong burn',\n",
       " b'came beauti green full flower realli optimist instruct old flower die got flea soil relat bug plant howev cut shrub bonsai stuck bonsai pot bug spray frustrat would easier care plant sinc buggi train bonsai seem root bound suppos anyth first year gardenia hardi delic frustrat spray bug season bring hate bug',\n",
       " b'delici littl dri side mapl flavor fantast went fast next time order piec',\n",
       " b'ridicul shop amazon time definit price packag thoma english muffin insan one packag purchas pack walmart would pay price amazon get right time spot mayb food price first time check price food today show segment check sure enough muffin',\n",
       " b'great pickl sold excel seller grew eat german style pickl still love authent item mild tasti',\n",
       " b'order item read ingredi say main ingredi maltitol yes technic sugar cane glycem index practic amount point might well use real mapl syrup',\n",
       " b'absolut instruct includ specif ginkgo bonsai import prune larg get etc none question found book either current tall consid rather tall bonsai less month know expect pot pretti',\n",
       " b'although descript said larg packet receiv one wrinkl would feel good give gift contact supplier direct tri resolv issu never receiv respons needless say disappoint purchas would never buy supplier',\n",
       " b'orderd list grm metal contain nido milk powder receiv one made cardboard differ size want milk powder metal tin adver shown illustr anoth stock item vendor said produc question style still shown avail websit metal tin work better humid enviro boat crdboard one happi order item amazon learn lesson',\n",
       " b'one year love easi use cork dishwash find keep wine well sever day store refriger',\n",
       " b'like organ organ milk meat veget afford children like macaroni chees homemad casserol sweat work cours lol mac come box hubbi like casserol case would think organ natur macaroni come box would popular hous simpl put children eat tri three differ kind cheddar regular special result perhap chees sauc come littl graini mayb made wrong testi tike gobbl like wheat kraft mac two star mayb coupl bad box mayb make right day two boy girl would eat macaroni chees product go tri product get improv everi day advic would buy one box tri case',\n",
       " b'echo review perform consist one time get excel coffe morn jam senseo machin steam lock tell abl consid price pod even one bad pod make imposs recommend product',\n",
       " b'put fri broil vege stir fri asian cook buy',\n",
       " b'definit especi hottest list flavor good main use tamal holiday good use much definit mouth burner',\n",
       " b'come make anniversari delux edit without origin version say great movi hey need edit movi show disney channel mean offens produc movi say hey edit like sell walmart come love good movi',\n",
       " b'use amaz chang formula back cat eat either flavor disappoint']"
      ]
     },
     "execution_count": 150,
     "metadata": {},
     "output_type": "execute_result"
    }
   ],
   "source": [
    "l=list(sample_test['Cleaned_Text'][50:100])\n",
    "l"
   ]
  },
  {
   "cell_type": "code",
   "execution_count": 163,
   "metadata": {},
   "outputs": [],
   "source": [
    "rev=count_vect.transform(l)"
   ]
  },
  {
   "cell_type": "code",
   "execution_count": 157,
   "metadata": {},
   "outputs": [],
   "source": [
    "rev=count_vect.transform([b'sweet incompar yes small amount need bottl worth last year'])"
   ]
  },
  {
   "cell_type": "code",
   "execution_count": 120,
   "metadata": {},
   "outputs": [],
   "source": [
    "#std_data_1 = scaler.fit_transform(rev.todense())"
   ]
  },
  {
   "cell_type": "code",
   "execution_count": 158,
   "metadata": {},
   "outputs": [
    {
     "name": "stdout",
     "output_type": "stream",
     "text": [
      "  (0, 340)\t1\n",
      "  (0, 1152)\t1\n",
      "  (0, 5294)\t1\n",
      "  (0, 5900)\t1\n",
      "  (0, 6995)\t1\n",
      "  (0, 9698)\t1\n",
      "  (0, 10427)\t1\n",
      "  (0, 11975)\t1\n",
      "  (0, 12048)\t1\n",
      "  (0, 12062)\t1\n"
     ]
    }
   ],
   "source": [
    "print(rev)"
   ]
  },
  {
   "cell_type": "code",
   "execution_count": 164,
   "metadata": {},
   "outputs": [],
   "source": [
    "pre=LRclf.predict(rev)"
   ]
  },
  {
   "cell_type": "code",
   "execution_count": 165,
   "metadata": {},
   "outputs": [
    {
     "data": {
      "text/plain": [
       "array(['Positive', 'Positive', 'Negative', 'Positive', 'Positive',\n",
       "       'Negative', 'Negative', 'Negative', 'Negative', 'Positive',\n",
       "       'Positive', 'Positive', 'Positive', 'Negative', 'Negative',\n",
       "       'Positive', 'Negative', 'Negative', 'Negative', 'Positive',\n",
       "       'Negative', 'Negative', 'Negative', 'Positive', 'Negative',\n",
       "       'Negative', 'Positive', 'Positive', 'Positive', 'Positive',\n",
       "       'Positive', 'Positive', 'Negative', 'Positive', 'Positive',\n",
       "       'Positive', 'Positive', 'Negative', 'Positive', 'Negative',\n",
       "       'Positive', 'Negative', 'Negative', 'Positive', 'Negative',\n",
       "       'Negative', 'Negative', 'Positive', 'Positive', 'Negative'],\n",
       "      dtype=object)"
      ]
     },
     "execution_count": 165,
     "metadata": {},
     "output_type": "execute_result"
    }
   ],
   "source": [
    "pre"
   ]
  },
  {
   "cell_type": "code",
   "execution_count": 169,
   "metadata": {
    "collapsed": true
   },
   "outputs": [
    {
     "data": {
      "text/plain": [
       "[\"The sweetness is incomparable.  Yes, it's $$$, but only a small amount it needed.  A bottle's worth can last more than a year.\",\n",
       " \"I put like five drops on a hot dog and had 2 of them.  It was hot I admit.  But it isn't that unbearable to me.  I thought it has a great flavor and not too bad.  I actually think this crushed habanero I have is hotter.<br />Good stuff!!  Looking forward to trying Ghost pepper\",\n",
       " 'I was disappointed when I received this brown sanding sugar.  I wanted it to look like sand for decorating cupcakes in a beach theme.  I passed by a lot of dark brown sanding sugar on Amazon, and chose this one since it was lighter in the picture.  Unfortunately when it arrived, it was really dark brown.',\n",
       " \"This is one of my favorite movies!!! I'm so excited to have it on DVD. I bought 2 since it was such a great deal!! It arrived quickly! Great job, amazon!!!\",\n",
       " \"I like it's size, weight, and the fact that it is clear glass so you can see the tea.  I keep it warm at my desk with the aid of a coffee cup warmer and one cup will last for several hours.  The strainer works flawlessly for me.\",\n",
       " 'My ten-months old 12 lb. pomapoo loves chewing on this dinosaur and it is 100% safe.  He is unable to chew off any kind of bits or pieces that would harm him if swallowed.  I tried the nylabone wolf bone and he was able to completely rip pieces off that he swallowed and I threw it out.  <a href=\"http://www.amazon.com/gp/product/B000084E6V\">Dental Dinosaur Durable</a>',\n",
       " 'I love hot sauces and I have quite a collection of them.  When I saw this product at an Austin hot sauce shop (the apply named \"Tears of Joy\") I snatched it up.  Of the 5 different sauces that I bought that day this was the first one that I opened.  I have to say that I am very disappointed.<br /><br />I am really not too sure why it tastes so bad to me.  Here is what the label says is in it:<br /><br />Purified water, soybean oil, jalapeno chilies, cane sugar, wine vinegar, fresh tomatillo, Wasabi Rhizome, salt, lime juice, cilantro, ginger, mustard powder, green tea leaf, vitamin C, garlic powder, onion powder, turmeric, citric acid and sodium eritobate.<br /><br />It could be the large amount of soybean oil but the sauce tastes dull and cloying.  I was hoping for that nasal-passage-clearing rush of Wasabi but I could barely delete it\\'s flavor.  For a brand that has HEAT on the label it\\'s too bad that there was none inside of the bottle.  The green tea leaf adds to the visual aspect of the condiment (with all of the floating bits of it and the cilantro) but not the taste.  I just could be me or the bottle that I purchased, but I don\\'t like it and I regret buying it.',\n",
       " 'You reckon when the ad says \"whole rabbit\" you ought get the whole rabbit. I ain\\'t got a head on this critter! My neighbor kids sure love playin with them rabbit heads. If I ain\\'t got a rabbit head fer makin peace with them neighbor kids they prolly gonna come bust up my old ridin tractor. Without my tractor I can\\'t even get up the corner store for no beer. Another thing is I ain\\'t even got any intestines fer sausage makin! How is Easter dinner gonna be any good with no varmint sausages? This thing looks like it coulda been a guinea pig or a chinchilla or somethin. I mean, it tasted pretty damn good with hot sauce, but I reckon I oughta shot my own critter next time around. That or scrape one up off the main road, sure is cheaper. Least they left some bones in there for my ol coonhound to chaw awhile. Mavis gives it four stars but I\\'m only givin it two on account of no head or nothin to make sausages with. Reckon also if you ain\\'t familiar with rabbit don\\'t be expectin to feed no three grown men on one, ain\\'t enough eatin on em.',\n",
       " 'This is incredibly over priced. You can buy this for a fraction of the cost at other websites Google it.  Your over charging',\n",
       " \"I found this dog food after doing research to help my dogs allergies (2 goldens).<br /><br />My dog had terrible allergies,  she has been on Canidae all life stages for about 5 weeks now.<br /><br />No more itching, scratching, ear infections and vomiting. Their fur is silky & they are so happy & healthy.<br /><br />Use the food cost calculator. your dog eats less of this than many of the garbage filled brands. They also offer coupons on their web site. It really isn't that expensive.<br /><br />If you have cats we have switched ours to the felidae and can also highly recommend it.\",\n",
       " \"The tree arrived identical to the picture. Looked perfect, perfect size, perfect pot. Packaging was also perfect, the box was internally reinforced with a perfectly fitting frame and the pot was wrapped tightly to hold moisture in. I couldn't be more impressed. Thanks!!!\",\n",
       " 'This is a must have for your spice collection. The flavor is so good. Can be used in many ways.',\n",
       " \"Dr. Pepper jelly bellies are by far my favorite, and I haven't been able to find them anywhere! When I saw these, I immediately scooped them up and they were just as expected! They taste just like I remember them, and they're going fast. The packaging is nice and seals the candy inside very well. I was surprised that the bag held 1 pound worth, because it didn't seem like a lot, but it was correct. If I'd known beforehand, I would've bought another!\",\n",
       " 'The mushrooms I received had absolutely no flavor.  It was like soaking up cream sauce with pieces of rubber.  Really disappointing.',\n",
       " 'The Amazon.com page for this items states \"Item count says 100 and a shipping weight says 6 pounds\".  The picture shows a box of pig ears. I ordered and recieved \"1\" pig ear with shipping cost almost $7.00.  Complete rip off!  This is false advertising at its worse and now they want to charge me shipping to return my $7.00 pig ear.  I will be filing a complaint with BBB to protect others on Amazon.com from being ripped off like this.',\n",
       " \"My dog really loves these treats - and he's very picky.  He is 11 years old and was previously having problems with his knees.  Since we have been giving him these, it seems he feels better!\",\n",
       " \"This won't be the only product you need to use for flea control but it definitely reduces the number of fleas in the home.  Super cheap and it works.  Buy the refills when you buy the unit because you will need them fairly quickly if you have a bad infestation.\",\n",
       " 'We bought this (the large cube) for our eighty pound retriever. He played with it once, then it broke in half. I glued the halves back together, he played with it once more, then it broke in half again. I then put super epoxy on it and plastic-welded it back together. He played with it once, then it broke AGAIN. I finally drilled holes in the side and riveted a make-shift bracket to either half, effectively sealing the thing together for eternity (or as long as it takes for the plastic to break-down into it\\'s constituent materials). Even now the center tube hardly \"locks\" anymore. I\\'m done with this toy. The manufacturer needs to redesign the cube halves so the halves screw together.<br /><br />Even when it was brand new the center lock was VERY hard for my wife to get out. I almost broke my thumb trying to do it myself. I finally had to jamb a towel into the hole, then stuff my finger into the towel and \"wrench\" on the part to get the cube to open.<br /><br />One star for construction and durability.<br />Three stars for the concept.<br /><br />Average: 2 stars',\n",
       " \"I'm not normally a green tea or a ginger tea drinker but when I had some stomach problems, my acpuncturist suggested ginger tea.  Rather than steeping fresh ginger I tried all the ginger teas on the market, far and away this is the best.  I always have at least one cup a day.\",\n",
       " \"Other than a few table scraps, Canidae is the only brand (dry and wet) we feed to our blk lab.  She's done excellent on it and has a very healthy and shinny coat.  People routinely comment how nice her coat looks, most even ask what we feed.  I sent a bag to my brother and he too noticed his dog's coat was healthier looking after a week or two.  I highly recommend this product.\",\n",
       " \"After being fed up with the disgusting smell of clay litter and it sticking to the litter pan like glue when it got too wet, I found this litter and I'm never going back! I tried corn litter before this but it was no comparison in terms of clumping, tracking, and keeping the area odor free. Believe it or not, I use this litter with two cats in my electronic litter box...it works GREAT! If there is ever a possibility that it gets oversaturated and sticks to the bottom of the pan, it dries to a cakey consistency and I just scoop it out in seconds. With clay clumping litter my cats were tracking that litter smell all over the house, I was constantly getting a whiff of it on them too. Now, theres no odor to speak of on them or in the house and theres minimal clean up. Better yet - its natural and safe for my kids and the environment. As far as completely odor free and not enough clumping power - that would be some magical stuff to be able to de-oderize cat waste completely. . .this makes it barely noticeable though. The electronic litter box does scoop it away almost immediately so I'm sure that helps and it definately seems to have enough clumping power to be scooped away electronically.\",\n",
       " 'Ordered these and got them 3 days later (much much faster than expected).  They were well packaged and fresh.  Will order again for sure.',\n",
       " 'This has to be the Scrooge joke of Christmas, for the price it is so small only made 2 glasses.<br />The taste is nothing good at all, just plain tasting it is nothing great.<br /><br />Says you can get one quart, you only get two small glassful.<br />For the price they charge, for such a tiny amount, the profit for them is very high.<br />If you want something to just add for a tiny flavor, go ahead. But if you want this for Holiday cheer, dont waste your time.<br /><br />Of all the things I have bought on Amazon, this has to be the biggest loser product they sell.<br />I would send it back, but they said once it is open, sorry<br /><br />Want to have a good Christmas, dont buy this to entertain your family or friends with.<br /><br />Shame of such a rip off product',\n",
       " 'I was introduced to this sauce by my father in law and I have never used any other seasoning on my pizza since.  The seasoning is spicy, yet sweet and tangy.  It is delicious and yet not too strong.  This seasoning blend completely replaces my need for any seasonings on my pizza, be it red pepper flakes, or parmesian.  This is simply OUTSTANDING!',\n",
       " 'when I received this product I discovered that it contains calcium sterate, which is made from animals. This should have been made clear before I ordered the product.',\n",
       " 'Nice how they leave out telling you this product has artificial flavor. Artificial flavor is lab created \"flavor\" tested on lab rats to ensure they get addicted and keep eating. Yet this product proudly proclaims no artificial colors or preservatives to mislead that this is somehow natural.<br /><br />Don\\'t be duped by processed foods containing artificial flavors. You can wonder why so many folks are addicted to junk food all containing artificial flavor.',\n",
       " \"I have had this plant for several months and was sorry to see that it is no longer offered through Brussel's at Amazon.  I have sent several friends to Amazon to order the plant as they love it when they see mine.  It arrived healthy and has remained healthy over the months.  I originally ordered this plant because I had received two from Red Envelope which arrived quite sickly.  I had ordered them as gifts and had to return them to R.E.  I was quite pleased when this one arrived from Brussel's.  I ordered a lucky bamboo from Amazon/Brussel's and it also arrived healthy and is thriving several months later.  I highly recommend this company.\",\n",
       " 'bought one of these -- really liked the colors!  not like the liquid -- blends really well.',\n",
       " \"El Yucateco makes a bangin' sauce.  It's fairly thick and sticks well to food (not too runny).  It's sweet, and it's got a little bit of kick to it.  I'd give it a 4/10 for heat, a 7 or 8 for flavor.<br /><br />My only issue is that it only tastes good on Mexican food.  I've tried it on pizza and eggs (staple hot sauce foods for me) and I was left disappointed.  But on a taco?  This hits the spot.\",\n",
       " 'My dog loves this food.  He was previously eating Iams, which I did like, but it became hard to find.  So, i switched to this.  I think it makes his coat nicer than the Iams.  This is a tremendous value for this brand.  It is pricier in the store.',\n",
       " \"I LOVE this curry powder!  It has a strong flavor and scent with a touch of sweetness.  I've tried other curry powders in my favorite curried dish and they don't come out near as good!  A definite buy for curry lovers!\",\n",
       " \"The story goes that I adopted a cat from an agency last summer. Having always grown up with dogs and not cats, I went ahead and wandered down to my Target to get a bag of Friskies. About a week later, my kitty (named Sugar) starting vomiting. Confused, I assumed it was the wet food we were feeding her in the morning. So we changed it. Then we changed it again. No results. I took her to the vet and asked. He checked her out and said likely the problem was having a sensitive stomach and he recommended Science Diet. Bam. My cat does great now. She's lost a little bit of weight so she's the right size now. She doesn't vomit anymore. This food works and it works well. I read the negative review here and I would say the problem was unique to the cat. My cat loves it and is doing brilliantly now.\",\n",
       " 'This product is nothing like the picture. The one I purchased was shriveled and dying. It was about a third of the size as the one in the picture. Not a good purchase at all.',\n",
       " 'Once again this is the only way I can get this salsa in japan. It was shipped fast and ahead of time, munchas thank yous',\n",
       " \"Yes, I'm a chilehead. I not only grew my own peppers (jalapeno, habanero, and the hottest-at-its-time red savina) back in the mid-'90s but also made it a point to sample lots of hot sauces. I have a huge collection of hot sauces instead of liquor behind the home bar.<br /><br />Dave's Gourmet Insanity Sauce was the first ultra-hot sauce I've tried. What's interesting about this sauce is that it uses capsaicin extract in an oil base. This adds a lot of fury to an already fiery coarse and thick mix of tabasco and habanero peppers with a hint of smokiness within a tomato base. But you know you're into something brutal when you shake the bottle and witness the changing of the dark red contents to a fiery orange.<br /><br />The heat of this sauce creeps up on you. At first you begin delving into the already hot and slightly-smoky tastes and textures of the base. Then the extracts hit and lock onto your tongue. It's a very persistent burn that wiped that smug grin off of my face as I looked for the nearest glass of iced milk. And just when you think it's over, depending upon how much you consumed you may feel a wicked afterburn when you go and relieve the other end of your gastrointestinal tract.<br /><br />Dave's Gourmet Insanity Sauce is legendary. Even the label is worth a read. If you really want to test yourself or your friends you can't go wrong with this just for the burn.\",\n",
       " \"So it came with beautiful greens and full of flowers.  Was really optimistic, no instructions - i.e. how old is it? After the flowers died, it got fleas, which are soil related. It bugged my other plants. However, its a cutting of a shrub, not a bonsai. Its just stuck in a bonsai pot. Now I'm in the bug spraying mode- frustrating. It would have been easier to care for it as a plant, since its buggy. Now I have to train it into a bonsai. It seems root bound, but we're not supposed to anything the first year. Gardenias are hardy but delicate so I'm frustrated with spraying for bugs and for the season I have to bring it in and I hate bugs.\",\n",
       " \"These are delicious! They're a little on the dry side, but the maple flavor is fantastic! They went fast - next time I'll order more than just 6 pieces.\",\n",
       " 'This is ridiculous - I shop Amazon all the time and I am definitely pro-Amazon but the price on the package of Thomas English Muffins is insane - $6.95 for one package of 6.  You can purchase a pack at Walmart for $2.  Who would pay this price?<br /><br />Amazon you get it right 99% of the time and are spot on but maybe not on your food prices.  This is the first time I have checked prices on food.  Today Show just did a segment and I had to check it out - and sure enough your muffins are $6.95.',\n",
       " 'These are great pickles sold by an excellent seller. I grew up eating German style pickles and I still love them. These are the authentic item and are mild and tasty',\n",
       " 'I didn\\'t order this item after reading the ingredients.  It says \"sugar-free\" but the main ingredient is maltitol.  While, yes it isn\\'t technically from sugar cane, it does has a glycemic index of practically the same amount.  So what\\'s the point you might as well use real maple syrup...',\n",
       " 'and there were absolutely NO instructions included specifically for the Ginkgo Bonsai - most importantly when and how to prune, how large it will get, etc. None of these questions can be found in books either. Currently, it is 28\" tall which I consider rather tall for a bonsai I\\'ve had for less than 1 month but I don\\'t know what to expect.  The pot is pretty.',\n",
       " 'Although the description said 3 large packets, I only received one.  It was wrinkled and worn; I would not feel good about giving it as a gift. I contacted the supplier directly to try and resolve the issue, and never received a response.  Needless to say, I was very disappointed with this purchase, and would never buy from this supplier again.',\n",
       " \"I orderd what was listed as 360 grm metal containers of Nido milk powder.<br />What I received was ones made from cardboard and a different size. I wanted the milk powder in the metal tins as adverized and shown in the illustration. NOT another stock item. The vendor said they were not produced any more. My question is why is this style still shown as being available on the website.? The metal tins work better in a more humid enviroment on my boat, the crdboard ones do not. I'm not happy and I will not order items such as this from Amazon again. I've learned my lesson.\",\n",
       " 'We\\'ve had one of these for about 6 years and love it.  It is easy to use and the \"corks\" can go in the dishwasher.  We find it keeps wine well for several days when stored in the refrigerator.',\n",
       " \"I like organic. We do organic milk and meat (and vegetables when we can afford them).  My children like macaroni and cheese - not my homemade casserole that I sweat and work over--of course lol).  But only Mac that comes out of a box. [My hubby likes my casserole btw]<br /><br />In any case, you would think organic *Back to Nature Macaroni & Cheese* that comes out of the box would be popular at our house but it's not. Simple put, my children won't eat it.  We have tried three different kinds --white cheddar, regular, and special shapes--all with the same results.<br /><br />Perhaps it is because of the *lack of chemicals* that the cheese sauce comes out a little grainy. Or maybe I just made it wrong, but my testy tikes won't gobble this down like non-organic, over-processed wheat Kraft Mac.<br /><br />Two Stars. Maybe I just had a couple of bad boxes. Or maybe I just didn't make it right that day, but my two (boy and girl) would not eat this macaroni and cheese product. If you are going to try it (products do get IMPROVED every day) then my advice would be to buy ONE box and try it; and not a case.\",\n",
       " 'Echoing other reviews, performance is not consistant.  One time we did get excellent coffee, this morning it jammed the Senseo machine with a steam lock and there is not telling when we will be able to re-open it.  Considering the price of these pods, even only one bad pod makes it impossible to recommend the product.',\n",
       " 'I put it on fries, broiled veges, in stir fry, in Asian cooking.  I buy it by the 24 oz. can and I DO GO THROUGH IT',\n",
       " \"it's definitely, especially being 4 down from the hottest on the list.  flavor is good too.  mainly used on tamales over the holiday and was very good.  couldn't use too much, as it was definitely a mouth burner.\",\n",
       " 'Come on now.  how can you make a 20th anniversary deluxe edition without having the original version.  Not to say it is not a great movie but hey there is no need to edit the movie just so you can show it on disney channel.  I mean no offense but did the producers of this movie say hey why not edit it like a CD so we can sell it at walmart.  Come on where is the love of a good movie.',\n",
       " \"These used to be amazing, but they changed for the formula a while back and now my cat won't eat either flavor. Very disappointed.\"]"
      ]
     },
     "execution_count": 169,
     "metadata": {},
     "output_type": "execute_result"
    }
   ],
   "source": [
    "l1=list(sample_test['Text'][50:100])\n",
    "l1"
   ]
  },
  {
   "cell_type": "code",
   "execution_count": null,
   "metadata": {},
   "outputs": [],
   "source": []
  }
 ],
 "metadata": {
  "kernelspec": {
   "display_name": "Python 3",
   "language": "python",
   "name": "python3"
  },
  "language_info": {
   "codemirror_mode": {
    "name": "ipython",
    "version": 3
   },
   "file_extension": ".py",
   "mimetype": "text/x-python",
   "name": "python",
   "nbconvert_exporter": "python",
   "pygments_lexer": "ipython3",
   "version": "3.6.3"
  }
 },
 "nbformat": 4,
 "nbformat_minor": 4
}
